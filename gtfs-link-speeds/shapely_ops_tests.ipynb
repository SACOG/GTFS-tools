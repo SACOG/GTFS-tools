{
 "cells": [
  {
   "cell_type": "code",
   "execution_count": 50,
   "id": "1ee7888c-b139-4171-a312-fc4265fff452",
   "metadata": {},
   "outputs": [
    {
     "data": {
      "text/plain": [
       "<AxesSubplot:>"
      ]
     },
     "execution_count": 50,
     "metadata": {},
     "output_type": "execute_result"
    },
    {
     "data": {
      "image/png": "[encoded data removed]",
      "text/plain": [
       "<Figure size 432x288 with 1 Axes>"
      ]
     },
     "metadata": {
      "needs_background": "light"
     },
     "output_type": "display_data"
    }
   ],
   "source": [
    "import geopandas as gpd\n",
    "\n",
    "from shapely import ops as sops\n",
    "from shapely.geometry import Point, LineString\n",
    "\n",
    "line = LineString([[1, 0], [4, 3]])\n",
    "point1 = Point([1, 1])\n",
    "point2 = Point([2, 2])\n",
    "\n",
    "points = [point1, point2]\n",
    "\n",
    "df_line = gpd.GeoDataFrame([[1, line]], geometry=1).rename(columns={1:'geometry'})\n",
    "df_points_in = gpd.GeoDataFrame([[1, point1], [2, point2]], geometry=1).rename(columns={1:'geometry'})\n",
    "\n",
    "ax = df_line.plot()\n",
    "df_points_in.plot(ax=ax)"
   ]
  },
  {
   "cell_type": "code",
   "execution_count": 51,
   "id": "1e5b938c-c799-4b38-b64e-28e0a12d7672",
   "metadata": {},
   "outputs": [
    {
     "data": {
      "text/html": [
       "<div>\n",
       "<style scoped>\n",
       "    .dataframe tbody tr th:only-of-type {\n",
       "        vertical-align: middle;\n",
       "    }\n",
       "\n",
       "    .dataframe tbody tr th {\n",
       "        vertical-align: top;\n",
       "    }\n",
       "\n",
       "    .dataframe thead th {\n",
       "        text-align: right;\n",
       "    }\n",
       "</style>\n",
       "<table border=\"1\" class=\"dataframe\">\n",
       "  <thead>\n",
       "    <tr style=\"text-align: right;\">\n",
       "      <th></th>\n",
       "      <th>index</th>\n",
       "      <th>geometry</th>\n",
       "    </tr>\n",
       "  </thead>\n",
       "  <tbody>\n",
       "    <tr>\n",
       "      <th>0</th>\n",
       "      <td>0</td>\n",
       "      <td>LINESTRING (1.00000 0.00000, 1.50000 0.50000)</td>\n",
       "    </tr>\n",
       "    <tr>\n",
       "      <th>1</th>\n",
       "      <td>1</td>\n",
       "      <td>LINESTRING (1.50000 0.50000, 2.50000 1.50000)</td>\n",
       "    </tr>\n",
       "    <tr>\n",
       "      <th>2</th>\n",
       "      <td>2</td>\n",
       "      <td>LINESTRING (2.50000 1.50000, 4.00000 3.00000)</td>\n",
       "    </tr>\n",
       "  </tbody>\n",
       "</table>\n",
       "</div>"
      ],
      "text/plain": [
       "   index                                       geometry\n",
       "0      0  LINESTRING (1.00000 0.00000, 1.50000 0.50000)\n",
       "1      1  LINESTRING (1.50000 0.50000, 2.50000 1.50000)\n",
       "2      2  LINESTRING (2.50000 1.50000, 4.00000 3.00000)"
      ]
     },
     "execution_count": 51,
     "metadata": {},
     "output_type": "execute_result"
    }
   ],
   "source": [
    "# linear referencing to split lines\n",
    "# https://shapely.readthedocs.io/en/stable/manual.html#linear-referencing-methods\n",
    "\n",
    "\n",
    "def split_line_by_points(gdf_points, line_geom):\n",
    "    \n",
    "    splitter_points_loose = {}\n",
    "    for i in range(len(gdf_points)):\n",
    "        geo = gdf_points.geometry[i]\n",
    "        lindist = line_geom.project(geo)\n",
    "        snapcoord = line_geom.interpolate(lindist)\n",
    "        splitter_points_loose[i] = snapcoord\n",
    "        \n",
    "    df_splits = gpd.GeoDataFrame.from_dict(splitter_points_loose, orient='index', geometry=0) \\\n",
    "                .rename(columns={0:'geometry'})\n",
    "    \n",
    "    splitter_geo = df_splits.geometry.unary_union\n",
    "    seg_coll = sops.split(test_line, splitter_geo)\n",
    "    \n",
    "    segments = [seg for seg in seg_coll]\n",
    "    \n",
    "    gdf_segments = gpd.GeoDataFrame(\n",
    "    list(range(len(segments))), geometry=segments)\n",
    "    \n",
    "    gdf_segments.columns = ['index', 'geometry']\n",
    "    \n",
    "    return gdf_segments\n",
    "\n",
    "test_line = df_line.geometry[0]\n",
    "gdf_segs = split_line_by_points(df_points_in, test_line)\n",
    "gdf_segs"
   ]
  }
 ],
 "metadata": {
  "kernelspec": {
   "display_name": "Python 3",
   "language": "python",
   "name": "python3"
  },
  "language_info": {
   "codemirror_mode": {
    "name": "ipython",
    "version": 3
   },
   "file_extension": ".py",
   "mimetype": "text/x-python",
   "name": "python",
   "nbconvert_exporter": "python",
   "pygments_lexer": "ipython3",
   "version": "3.9.11"
  }
 },
 "nbformat": 4,
 "nbformat_minor": 5
}
