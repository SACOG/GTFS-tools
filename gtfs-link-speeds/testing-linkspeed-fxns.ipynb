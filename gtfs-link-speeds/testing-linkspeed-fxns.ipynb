{
 "cells": [
  {
   "cell_type": "code",
   "execution_count": 24,
   "id": "7c8d4b1d-c999-451e-8d44-93e3bd450107",
   "metadata": {},
   "outputs": [],
   "source": [
    "import os\n",
    "\n",
    "import pandas as pd\n",
    "import geopandas as gpd\n",
    "from shapely.geometry import LineString\n",
    "\n",
    "data_dir = r'Q:\\SACSIM23\\Network\\TransitNetwork\\GTFS\\Auburn'\n",
    "os.chdir(data_dir)\n"
   ]
  },
  {
   "cell_type": "code",
   "execution_count": 28,
   "id": "0dd4eef1-8fb5-4f41-a504-d333dfa428f0",
   "metadata": {},
   "outputs": [],
   "source": [
    "# load spatial data\n",
    "\n",
    "\n",
    "# load stop data\n",
    "stops_gdf = pd.read_csv('stops.txt')\n",
    "stops_gdf = gpd.GeoDataFrame(stops_df, geometry=gpd.points_from_xy(stops_gdf.stop_lon, stops_gdf.stop_lat))\n",
    "\n",
    "\n",
    "# load line shape data\n",
    "linepts_gdf = pd.read_csv('shapes.txt')\n",
    "linepts_gdf = gpd.GeoDataFrame(linepts_gdf, geometry=gpd.points_from_xy(linepts_gdf.shape_pt_lon, linepts_gdf.shape_pt_lat))\n",
    "linepts_gdf = linepts_gdf.sort_values(by='shape_pt_sequence')\n",
    "\n",
    "# convert line points into lines\n",
    "# the to_list() function applied with groupby converts all values within case value to a list,\n",
    "# rather than, for example, summing or averaging them by the case value.\n",
    "gb = linepts_gdf.groupby('shape_id')['geometry'].apply(lambda x: LineString(x.tolist()))"
   ]
  },
  {
   "cell_type": "code",
   "execution_count": 29,
   "id": "319501bd-2072-49f8-887f-b28c6359c4c5",
   "metadata": {},
   "outputs": [
    {
     "data": {
      "text/plain": [
       "shape_id\n",
       "p_899496    LINESTRING (-121.08279 38.90334, -121.08283 38...\n",
       "p_899507    LINESTRING (-121.08277 38.90334, -121.08284 38...\n",
       "p_899512    LINESTRING (-121.08279 38.90334, -121.08283 38...\n",
       "Name: geometry, dtype: geometry"
      ]
     },
     "execution_count": 29,
     "metadata": {},
     "output_type": "execute_result"
    }
   ],
   "source": [
    "# for a single shape id, snap stop points to it for stops occurring on a trip using that shape"
   ]
  }
 ],
 "metadata": {
  "kernelspec": {
   "display_name": "Python 3",
   "language": "python",
   "name": "python3"
  },
  "language_info": {
   "codemirror_mode": {
    "name": "ipython",
    "version": 3
   },
   "file_extension": ".py",
   "mimetype": "text/x-python",
   "name": "python",
   "nbconvert_exporter": "python",
   "pygments_lexer": "ipython3",
   "version": "3.9.11"
  }
 },
 "nbformat": 4,
 "nbformat_minor": 5
}
