{
 "cells": [
  {
   "cell_type": "code",
   "execution_count": 1,
   "id": "7c8d4b1d-c999-451e-8d44-93e3bd450107",
   "metadata": {},
   "outputs": [],
   "source": [
    "import os\n",
    "\n",
    "import pandas as pd\n",
    "import geopandas as gpd\n",
    "from shapely.geometry import LineString\n",
    "\n",
    "from gtfs_data import GTFSData\n",
    "\n",
    "data_dir = r'Q:\\SACSIM23\\Network\\TransitNetwork\\GTFS\\Auburn'\n",
    "os.chdir(data_dir)\n",
    "\n",
    "gtfs = GTFSData(gtfs_dir=data_dir, data_year=2020)\n"
   ]
  },
  {
   "cell_type": "code",
   "execution_count": 16,
   "id": "319501bd-2072-49f8-887f-b28c6359c4c5",
   "metadata": {},
   "outputs": [],
   "source": [
    "# for a single trip, get geometry of its trip line shape and geom of stops made on that trip\n",
    "\n",
    "test_trip_id = 't_1063569_b_25331_tn_1'\n",
    "df_test_trip = gtfs.df_trips.loc[gtfs.df_trips['trip_id'] == test_trip_id]\n",
    "gdf_test_tripshp = df_test_trip.join(gtfs.gdf_lineshps, on='shape_id')\n",
    "gdf_test_stops = df_test_trip.merge(gtfs.df_stoptimes, on='trip_id') \\\n",
    "                .merge(gtfs.gdf_stops, on='stop_id') \\\n",
    "                [['trip_id', 'stop_id', 'stop_sequence', 'geometry']].drop_duplicates()\n"
   ]
  },
  {
   "cell_type": "code",
   "execution_count": 17,
   "id": "c56ea252-af4f-4960-a5c7-df8e9576d38a",
   "metadata": {},
   "outputs": [
    {
     "data": {
      "text/html": [
       "<div>\n",
       "<style scoped>\n",
       "    .dataframe tbody tr th:only-of-type {\n",
       "        vertical-align: middle;\n",
       "    }\n",
       "\n",
       "    .dataframe tbody tr th {\n",
       "        vertical-align: top;\n",
       "    }\n",
       "\n",
       "    .dataframe thead th {\n",
       "        text-align: right;\n",
       "    }\n",
       "</style>\n",
       "<table border=\"1\" class=\"dataframe\">\n",
       "  <thead>\n",
       "    <tr style=\"text-align: right;\">\n",
       "      <th></th>\n",
       "      <th>trip_id</th>\n",
       "      <th>stop_id</th>\n",
       "      <th>stop_sequence</th>\n",
       "      <th>geometry</th>\n",
       "    </tr>\n",
       "  </thead>\n",
       "  <tbody>\n",
       "    <tr>\n",
       "      <th>0</th>\n",
       "      <td>t_1063569_b_25331_tn_1</td>\n",
       "      <td>2583249</td>\n",
       "      <td>1</td>\n",
       "      <td>POINT (-121.08273 38.90335)</td>\n",
       "    </tr>\n",
       "    <tr>\n",
       "      <th>1</th>\n",
       "      <td>t_1063569_b_25331_tn_1</td>\n",
       "      <td>2583282</td>\n",
       "      <td>2</td>\n",
       "      <td>POINT (-121.07828 38.89570)</td>\n",
       "    </tr>\n",
       "    <tr>\n",
       "      <th>2</th>\n",
       "      <td>t_1063569_b_25331_tn_1</td>\n",
       "      <td>2583262</td>\n",
       "      <td>3</td>\n",
       "      <td>POINT (-121.07962 38.87836)</td>\n",
       "    </tr>\n",
       "    <tr>\n",
       "      <th>3</th>\n",
       "      <td>t_1063569_b_25331_tn_1</td>\n",
       "      <td>2583266</td>\n",
       "      <td>4</td>\n",
       "      <td>POINT (-121.07593 38.88630)</td>\n",
       "    </tr>\n",
       "    <tr>\n",
       "      <th>4</th>\n",
       "      <td>t_1063569_b_25331_tn_1</td>\n",
       "      <td>2583280</td>\n",
       "      <td>5</td>\n",
       "      <td>POINT (-121.07615 38.88970)</td>\n",
       "    </tr>\n",
       "  </tbody>\n",
       "</table>\n",
       "</div>"
      ],
      "text/plain": [
       "                  trip_id  stop_id  stop_sequence                     geometry\n",
       "0  t_1063569_b_25331_tn_1  2583249              1  POINT (-121.08273 38.90335)\n",
       "1  t_1063569_b_25331_tn_1  2583282              2  POINT (-121.07828 38.89570)\n",
       "2  t_1063569_b_25331_tn_1  2583262              3  POINT (-121.07962 38.87836)\n",
       "3  t_1063569_b_25331_tn_1  2583266              4  POINT (-121.07593 38.88630)\n",
       "4  t_1063569_b_25331_tn_1  2583280              5  POINT (-121.07615 38.88970)"
      ]
     },
     "execution_count": 17,
     "metadata": {},
     "output_type": "execute_result"
    }
   ],
   "source": [
    "gdf_test_stops.head()\n"
   ]
  }
 ],
 "metadata": {
  "kernelspec": {
   "display_name": "Python 3",
   "language": "python",
   "name": "python3"
  },
  "language_info": {
   "codemirror_mode": {
    "name": "ipython",
    "version": 3
   },
   "file_extension": ".py",
   "mimetype": "text/x-python",
   "name": "python",
   "nbconvert_exporter": "python",
   "pygments_lexer": "ipython3",
   "version": "3.9.11"
  }
 },
 "nbformat": 4,
 "nbformat_minor": 5
}
