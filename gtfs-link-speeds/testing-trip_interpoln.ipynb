{
 "cells": [
  {
   "cell_type": "code",
   "execution_count": 1,
   "id": "7c8d4b1d-c999-451e-8d44-93e3bd450107",
   "metadata": {},
   "outputs": [],
   "source": [
    "import os\n",
    "\n",
    "import pandas as pd\n",
    "import geopandas as gpd\n",
    "import warnings\n",
    "warnings.filterwarnings(\"ignore\")\n",
    "\n",
    "\n",
    "pd.options.mode.chained_assignment = None\n",
    "\n",
    "import shapely\n",
    "from shapely.geometry import LineString\n",
    "\n",
    "from gtfs_data import GTFSData\n",
    "\n",
    "data_dir = r'Q:\\SACSIM23\\Network\\TransitNetwork\\GTFS\\SRTD'\n",
    "os.chdir(data_dir)\n",
    "\n",
    "gtfs = GTFSData(gtfs_dir=data_dir, data_year=2020)\n",
    "\n",
    "\n",
    "# update strings to date time format\n",
    "gtfs.df_stoptimes = gtfs.df_stoptimes.loc[gtfs.df_stoptimes['arrival_time'] < '24:00:00']\n",
    "gtfs.df_stoptimes = gtfs.df_stoptimes.loc[gtfs.df_stoptimes['departure_time'] < '24:00:00']\n",
    "gtfs.df_stoptimes[gtfs.f_depart_time] = pd.to_datetime(gtfs.df_stoptimes[gtfs.f_depart_time])\n",
    "gtfs.df_stoptimes[gtfs.f_arrive_time] = pd.to_datetime(gtfs.df_stoptimes[gtfs.f_arrive_time])\n",
    "\n",
    "# IMPORTANTLY, probably need to only include stops with arrival and departure times\n",
    "gtfs.df_stoptimes = gtfs.df_stoptimes.loc[pd.notnull(gtfs.df_stoptimes['arrival_time'])]\n"
   ]
  },
  {
   "cell_type": "code",
   "execution_count": 2,
   "id": "ae736b89-25be-4aa6-8883-a360ef04aec8",
   "metadata": {},
   "outputs": [
    {
     "data": {
      "text/plain": [
       "Index(['trip_id', 'arrival_time', 'departure_time', 'stop_id', 'stop_sequence',\n",
       "       'pickup_type', 'drop_off_type'],\n",
       "      dtype='object')"
      ]
     },
     "execution_count": 2,
     "metadata": {},
     "output_type": "execute_result"
    }
   ],
   "source": [
    "gtfs.df_stoptimes.loc[gtfs.df_stoptimes['trip_id'] == 840400].columns"
   ]
  },
  {
   "cell_type": "code",
   "execution_count": 3,
   "id": "319501bd-2072-49f8-887f-b28c6359c4c5",
   "metadata": {},
   "outputs": [],
   "source": [
    "# for a single trip, get geometry of its trip line shape and geom of stops made on that trip\n",
    "\n",
    "test_trip_id = 840400 # 't_1063569_b_25331_tn_1'\n",
    "df_test_trip = gtfs.df_trips.loc[gtfs.df_trips['trip_id'] == test_trip_id]\n",
    "\n",
    "# create geodataframe of the test trip, with trip data and trip shape\n",
    "gdf_test_tripshp = df_test_trip.join(gtfs.gdf_lineshps, on='shape_id')\n",
    "gdf_test_tripshp = gpd.GeoDataFrame(gdf_test_tripshp, geometry='geometry', crs=gtfs.epsg_sacog)\n",
    "\n",
    "# make point gdf of stop locations along the trip shape\n",
    "gdf_test_stops = df_test_trip.merge(gtfs.df_stoptimes, on='trip_id') \\\n",
    "                .merge(gtfs.gdf_stops, on='stop_id') \\\n",
    "                [['trip_id', 'stop_id', 'stop_sequence', 'geometry']] \\\n",
    "                .sort_values(by='stop_sequence')\n",
    "gdf_test_stops = gpd.GeoDataFrame(gdf_test_stops, geometry='geometry') # need this to make geo df instead of regular df\n"
   ]
  },
  {
   "cell_type": "code",
   "execution_count": 5,
   "id": "abd7fabc-2e0b-453f-bcf6-a335f76fa84f",
   "metadata": {},
   "outputs": [
    {
     "data": {
      "text/plain": [
       "<AxesSubplot:>"
      ]
     },
     "execution_count": 5,
     "metadata": {},
     "output_type": "execute_result"
    },
    {
     "data": {
      "image/png": "[encoded data removed]",
      "text/plain": [
       "<Figure size 432x288 with 1 Axes>"
      ]
     },
     "metadata": {
      "needs_background": "light"
     },
     "output_type": "display_data"
    }
   ],
   "source": [
    "ax = gdf_test_tripshp.plot()\n",
    "gdf_test_stops.plot(ax=ax)"
   ]
  }
 ],
 "metadata": {
  "kernelspec": {
   "display_name": "Python 3",
   "language": "python",
   "name": "python3"
  },
  "language_info": {
   "codemirror_mode": {
    "name": "ipython",
    "version": 3
   },
   "file_extension": ".py",
   "mimetype": "text/x-python",
   "name": "python",
   "nbconvert_exporter": "python",
   "pygments_lexer": "ipython3",
   "version": "3.9.11"
  }
 },
 "nbformat": 4,
 "nbformat_minor": 5
}
